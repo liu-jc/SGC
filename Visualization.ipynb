{
 "cells": [
  {
   "cell_type": "code",
   "execution_count": 55,
   "metadata": {},
   "outputs": [],
   "source": [
    "import numpy as np \n",
    "import pickle \n",
    "import os "
   ]
  },
  {
   "cell_type": "code",
   "execution_count": 56,
   "metadata": {},
   "outputs": [],
   "source": [
    "# load data\n",
    "datasets = ['cora','citeseer','pubmed']\n",
    "data_dict = {}\n",
    "dir_name = 'time_result'\n",
    "for dataset in datasets:\n",
    "    with open(os.path.join(dir_name,dataset),'rb') as f:\n",
    "        data_dict[dataset] = pickle.load(f)"
   ]
  },
  {
   "cell_type": "code",
   "execution_count": 57,
   "metadata": {},
   "outputs": [
    {
     "data": {
      "text/plain": [
       "{'cora': {'total_time': 0.11397817195393145,\n",
       "  'precompute_time': 0.012214866932481527,\n",
       "  'train_time': 0.10176330502144992,\n",
       "  'forward_time': 0.012655573314987123,\n",
       "  'cross_entropy_time': 0.006715431693010032,\n",
       "  'softmax_time': 0.004267303156666458,\n",
       "  'nll_time': 0.002366999862715602,\n",
       "  'backward_time': 0.04463760170619935,\n",
       "  'step_time': 0.03208941174671054},\n",
       " 'citeseer': {'total_time': 0.14061258896254003,\n",
       "  'precompute_time': 0.03740748798009008,\n",
       "  'train_time': 0.10320510098244995,\n",
       "  'forward_time': 0.014254454988986254,\n",
       "  'cross_entropy_time': 0.005325106089003384,\n",
       "  'softmax_time': 0.0032641374273225665,\n",
       "  'nll_time': 0.001989755081012845,\n",
       "  'backward_time': 0.04311576881445944,\n",
       "  'step_time': 0.03633496107067913},\n",
       " 'pubmed': {'total_time': 0.08149024902377278,\n",
       "  'precompute_time': 0.050887143006548285,\n",
       "  'train_time': 0.03060310601722449,\n",
       "  'forward_time': 0.004040217958390713,\n",
       "  'cross_entropy_time': 0.0027031495701521635,\n",
       "  'softmax_time': 0.0013698127586394548,\n",
       "  'nll_time': 0.0012869355268776417,\n",
       "  'backward_time': 0.011276573059149086,\n",
       "  'step_time': 0.011041039135307074}}"
      ]
     },
     "execution_count": 57,
     "metadata": {},
     "output_type": "execute_result"
    }
   ],
   "source": [
    "data_dict"
   ]
  },
  {
   "cell_type": "code",
   "execution_count": 60,
   "metadata": {},
   "outputs": [],
   "source": [
    "import matplotlib.pyplot as plt\n",
    "def draw_bar_chart(original_data):\n",
    "    time_data = original_data.copy()\n",
    "    total_time = time_data['total_time']\n",
    "    time_data.pop('total_time')\n",
    "    objects = time_data.keys()\n",
    "    x_pos = np.arange(len(objects))\n",
    "#     performance = [10,8,6,4,2,1]\n",
    "    y = [] \n",
    "    for obj in objects:\n",
    "        y.append(time_data[obj]/total_time)\n",
    "    \n",
    "    x_names = [i.split('_time')[0] for i in objects]\n",
    "    plt.bar(x_pos, y, align='center', alpha=0.5)\n",
    "    plt.xticks(x_pos, x_names)\n",
    "    plt.ylabel('ratio')\n",
    "#     plt.title('Programming language usage')\n",
    "\n",
    "    plt.show()"
   ]
  },
  {
   "cell_type": "code",
   "execution_count": 68,
   "metadata": {},
   "outputs": [
    {
     "data": {
      "image/png": "[encoded data removed]",
      "text/plain": [
       "<Figure size 432x288 with 1 Axes>"
      ]
     },
     "metadata": {
      "needs_background": "light"
     },
     "output_type": "display_data"
    }
   ],
   "source": [
    "draw_bar_chart(data_dict['cora'])"
   ]
  },
  {
   "cell_type": "code",
   "execution_count": 67,
   "metadata": {},
   "outputs": [
    {
     "data": {
      "text/plain": [
       "{'cora': {'total_time': 0.11397817195393145,\n",
       "  'precompute_time': 0.012214866932481527,\n",
       "  'train_time': 0.10176330502144992,\n",
       "  'forward_time': 0.012655573314987123,\n",
       "  'cross_entropy_time': 0.006715431693010032,\n",
       "  'softmax_time': 0.004267303156666458,\n",
       "  'nll_time': 0.002366999862715602,\n",
       "  'backward_time': 0.04463760170619935,\n",
       "  'step_time': 0.03208941174671054},\n",
       " 'citeseer': {'total_time': 0.14061258896254003,\n",
       "  'precompute_time': 0.03740748798009008,\n",
       "  'train_time': 0.10320510098244995,\n",
       "  'forward_time': 0.014254454988986254,\n",
       "  'cross_entropy_time': 0.005325106089003384,\n",
       "  'softmax_time': 0.0032641374273225665,\n",
       "  'nll_time': 0.001989755081012845,\n",
       "  'backward_time': 0.04311576881445944,\n",
       "  'step_time': 0.03633496107067913},\n",
       " 'pubmed': {'total_time': 0.08149024902377278,\n",
       "  'precompute_time': 0.050887143006548285,\n",
       "  'train_time': 0.03060310601722449,\n",
       "  'forward_time': 0.004040217958390713,\n",
       "  'cross_entropy_time': 0.0027031495701521635,\n",
       "  'softmax_time': 0.0013698127586394548,\n",
       "  'nll_time': 0.0012869355268776417,\n",
       "  'backward_time': 0.011276573059149086,\n",
       "  'step_time': 0.011041039135307074}}"
      ]
     },
     "execution_count": 67,
     "metadata": {},
     "output_type": "execute_result"
    }
   ],
   "source": [
    "data_dict"
   ]
  },
  {
   "cell_type": "code",
   "execution_count": 43,
   "metadata": {},
   "outputs": [],
   "source": [
    "def test(a_list):\n",
    "    a_list.append(534)"
   ]
  },
  {
   "cell_type": "code",
   "execution_count": 44,
   "metadata": {},
   "outputs": [],
   "source": [
    "a = [12,4,5]"
   ]
  },
  {
   "cell_type": "code",
   "execution_count": 45,
   "metadata": {},
   "outputs": [],
   "source": [
    "test(a)"
   ]
  },
  {
   "cell_type": "code",
   "execution_count": 46,
   "metadata": {},
   "outputs": [
    {
     "data": {
      "text/plain": [
       "[12, 4, 5, 534]"
      ]
     },
     "execution_count": 46,
     "metadata": {},
     "output_type": "execute_result"
    }
   ],
   "source": [
    "a"
   ]
  },
  {
   "cell_type": "code",
   "execution_count": null,
   "metadata": {},
   "outputs": [],
   "source": []
  }
 ],
 "metadata": {
  "kernelspec": {
   "display_name": "Python 3",
   "language": "python",
   "name": "python3"
  },
  "language_info": {
   "codemirror_mode": {
    "name": "ipython",
    "version": 3
   },
   "file_extension": ".py",
   "mimetype": "text/x-python",
   "name": "python",
   "nbconvert_exporter": "python",
   "pygments_lexer": "ipython3",
   "version": "3.7.3"
  }
 },
 "nbformat": 4,
 "nbformat_minor": 2
}
