{
 "cells": [
  {
   "cell_type": "code",
   "execution_count": 21,
   "metadata": {},
   "outputs": [],
   "source": [
    "import numpy as np \n",
    "import pickle \n",
    "import os "
   ]
  },
  {
   "cell_type": "code",
   "execution_count": 29,
   "metadata": {},
   "outputs": [],
   "source": [
    "# load data\n",
    "datasets = ['cora','citeseer','pubmed','reddit']\n",
    "data_dict = {}\n",
    "dir_name = 'time_result'\n",
    "for dataset in datasets:\n",
    "    with open(os.path.join(dir_name,dataset),'rb') as f:\n",
    "        data_dict[dataset] = pickle.load(f)"
   ]
  },
  {
   "cell_type": "code",
   "execution_count": 30,
   "metadata": {},
   "outputs": [
    {
     "data": {
      "text/plain": [
       "{'cora': {'total_time': 0.11397817195393145,\n",
       "  'precompute_time': 0.012214866932481527,\n",
       "  'train_time': 0.10176330502144992,\n",
       "  'forward_time': 0.012655573314987123,\n",
       "  'cross_entropy_time': 0.006715431693010032,\n",
       "  'softmax_time': 0.004267303156666458,\n",
       "  'nll_time': 0.002366999862715602,\n",
       "  'backward_time': 0.04463760170619935,\n",
       "  'step_time': 0.03208941174671054},\n",
       " 'citeseer': {'total_time': 0.14061258896254003,\n",
       "  'precompute_time': 0.03740748798009008,\n",
       "  'train_time': 0.10320510098244995,\n",
       "  'forward_time': 0.014254454988986254,\n",
       "  'cross_entropy_time': 0.005325106089003384,\n",
       "  'softmax_time': 0.0032641374273225665,\n",
       "  'nll_time': 0.001989755081012845,\n",
       "  'backward_time': 0.04311576881445944,\n",
       "  'step_time': 0.03633496107067913},\n",
       " 'pubmed': {'total_time': 0.08149024902377278,\n",
       "  'precompute_time': 0.050887143006548285,\n",
       "  'train_time': 0.03060310601722449,\n",
       "  'forward_time': 0.004040217958390713,\n",
       "  'cross_entropy_time': 0.0027031495701521635,\n",
       "  'softmax_time': 0.0013698127586394548,\n",
       "  'nll_time': 0.0012869355268776417,\n",
       "  'backward_time': 0.011276573059149086,\n",
       "  'step_time': 0.011041039135307074},\n",
       " 'reddit': {'total_time': 29.179482422972796,\n",
       "  'precompute_time': 13.065866657998413,\n",
       "  'train_time': 16.113615764974384,\n",
       "  'forward_time': 3.0753438719548285,\n",
       "  'cross_entropy_time': 0.878381564252777,\n",
       "  'softmax_time': 0.6860396699339617,\n",
       "  'nll_time': 0.1922149309539236,\n",
       "  'backward_time': 12.122410786018008,\n",
       "  'step_time': 0.03353179505211301}}"
      ]
     },
     "execution_count": 30,
     "metadata": {},
     "output_type": "execute_result"
    }
   ],
   "source": [
    "data_dict"
   ]
  },
  {
   "cell_type": "code",
   "execution_count": 24,
   "metadata": {},
   "outputs": [],
   "source": [
    "import matplotlib.pyplot as plt\n",
    "def draw_bar_chart(original_data,title):\n",
    "    key2abb = {'total_time': 'T', 'precompute_time':'Pre', 'train_time': 'Tra', 'forward_time': 'FD', \n",
    "                'cross_entropy_time':'CE', 'softmax_time':'SM', 'nll_time':'NLL', 'backward_time':'BD',\n",
    "              'step_time':'ST'}\n",
    "    time_data = original_data.copy()\n",
    "    total_time = time_data['total_time']\n",
    "    time_data.pop('total_time')\n",
    "    objects = time_data.keys()\n",
    "    x_pos = np.arange(len(objects))\n",
    "#     performance = [10,8,6,4,2,1]\n",
    "    y = [] \n",
    "    for obj in objects:\n",
    "        y.append(time_data[obj]/total_time)\n",
    "    \n",
    "    x_names = [key2abb[i] for i in objects]\n",
    "    plt.bar(x_pos, y, align='center', alpha=0.5)\n",
    "    plt.xticks(x_pos, x_names)\n",
    "    plt.ylabel('ratio')\n",
    "    plt.title(title)\n",
    "\n",
    "#     plt.show()\n",
    "    plt.savefig(title)"
   ]
  },
  {
   "cell_type": "code",
   "execution_count": 25,
   "metadata": {},
   "outputs": [
    {
     "data": {
      "image/png": "[encoded data removed]",
      "text/plain": [
       "<Figure size 432x288 with 1 Axes>"
      ]
     },
     "metadata": {
      "needs_background": "light"
     },
     "output_type": "display_data"
    }
   ],
   "source": [
    "dataset = 'cora'\n",
    "draw_bar_chart(data_dict[dataset], dataset)"
   ]
  },
  {
   "cell_type": "code",
   "execution_count": 27,
   "metadata": {},
   "outputs": [
    {
     "data": {
      "image/png": "[encoded data removed]",
      "text/plain": [
       "<Figure size 432x288 with 1 Axes>"
      ]
     },
     "metadata": {
      "needs_background": "light"
     },
     "output_type": "display_data"
    }
   ],
   "source": [
    "dataset = 'citeseer'\n",
    "draw_bar_chart(data_dict[dataset],dataset)"
   ]
  },
  {
   "cell_type": "code",
   "execution_count": 28,
   "metadata": {},
   "outputs": [
    {
     "data": {
      "image/png": "[encoded data removed]",
      "text/plain": [
       "<Figure size 432x288 with 1 Axes>"
      ]
     },
     "metadata": {
      "needs_background": "light"
     },
     "output_type": "display_data"
    }
   ],
   "source": [
    "dataset = 'pubmed'\n",
    "draw_bar_chart(data_dict[dataset],dataset)"
   ]
  },
  {
   "cell_type": "code",
   "execution_count": 31,
   "metadata": {},
   "outputs": [
    {
     "data": {
      "image/png": "[encoded data removed]",
      "text/plain": [
       "<Figure size 432x288 with 1 Axes>"
      ]
     },
     "metadata": {
      "needs_background": "light"
     },
     "output_type": "display_data"
    }
   ],
   "source": [
    "dataset = 'reddit'\n",
    "draw_bar_chart(data_dict[dataset],dataset)"
   ]
  },
  {
   "cell_type": "code",
   "execution_count": 43,
   "metadata": {},
   "outputs": [],
   "source": [
    "def test(a_list):\n",
    "    a_list.append(534)"
   ]
  },
  {
   "cell_type": "code",
   "execution_count": 44,
   "metadata": {},
   "outputs": [],
   "source": [
    "a = [12,4,5]"
   ]
  },
  {
   "cell_type": "code",
   "execution_count": 45,
   "metadata": {},
   "outputs": [],
   "source": [
    "test(a)"
   ]
  },
  {
   "cell_type": "code",
   "execution_count": 46,
   "metadata": {},
   "outputs": [
    {
     "data": {
      "text/plain": [
       "[12, 4, 5, 534]"
      ]
     },
     "execution_count": 46,
     "metadata": {},
     "output_type": "execute_result"
    }
   ],
   "source": [
    "a"
   ]
  },
  {
   "cell_type": "code",
   "execution_count": null,
   "metadata": {},
   "outputs": [],
   "source": []
  }
 ],
 "metadata": {
  "kernelspec": {
   "display_name": "Python 3",
   "language": "python",
   "name": "python3"
  },
  "language_info": {
   "codemirror_mode": {
    "name": "ipython",
    "version": 3
   },
   "file_extension": ".py",
   "mimetype": "text/x-python",
   "name": "python",
   "nbconvert_exporter": "python",
   "pygments_lexer": "ipython3",
   "version": "3.6.8"
  }
 },
 "nbformat": 4,
 "nbformat_minor": 2
}
